{
 "cells": [
  {
   "cell_type": "code",
   "execution_count": null,
   "metadata": {},
   "outputs": [],
   "source": [
    "## User  data :\n",
    "## login  password  role\n",
    "# -------------------------\n",
    "# bandos 12345678asd! admin\n",
    "# klient 12345678asd! klient\n",
    "# manager 12345678asd! manager\n",
    "# -------------------------\n",
    "## Operations :\n",
    "# user = Klient.objects.get(username=\"\")\n",
    "# user.delete()\n",
    "# Klient.objects.create_user(username=\"klient\",password=\"12345678asd!\")"
   ]
  }
 ],
 "metadata": {
  "kernelspec": {
   "display_name": "venv",
   "language": "python",
   "name": "python3"
  },
  "language_info": {
   "codemirror_mode": {
    "name": "ipython",
    "version": 3
   },
   "file_extension": ".py",
   "mimetype": "text/x-python",
   "name": "python",
   "nbconvert_exporter": "python",
   "pygments_lexer": "ipython3",
   "version": "3.11.2"
  }
 },
 "nbformat": 4,
 "nbformat_minor": 2
}
